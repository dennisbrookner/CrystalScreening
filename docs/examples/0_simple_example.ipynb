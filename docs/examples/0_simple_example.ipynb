{
 "cells": [
  {
   "cell_type": "code",
   "execution_count": 1,
   "id": "1ac4f371",
   "metadata": {},
   "outputs": [],
   "source": [
    "import traytable as tt\n",
    "import matplotlib.pyplot as plt"
   ]
  },
  {
   "cell_type": "markdown",
   "id": "7a3b21c2-8f86-495d-a16d-7629583b1d1d",
   "metadata": {},
   "source": [
    "Download this notebook and try it out yourself [here](https://github.com/dennisbrookner/traytable/blob/main/docs/examples/0_simple_example.ipynb)"
   ]
  },
  {
   "cell_type": "markdown",
   "id": "2eb43c21",
   "metadata": {},
   "source": [
    "## Making a screen\n",
    "First, initialize the screen with `screen()`. This function requires that you specify\n",
    "\n",
    " * the parameter that varies by row \n",
    " * the parameter that varies by column\n",
    " * the plate shape, in the form of a \"max well\", e.g. the well in the bottom right corner of the plate.\n",
    " \n",
    "Note that `row` refers to the parameter encoded by the row name; this is the parameter that is the same within a row, rather than the parameter that varies across the row. Likewise for columns.\n",
    "\n",
    "Finally, whatever additional named arguments you pass to `screen()` become \"screen static\" global parameters that apply to all wells in all trays in the screen. Perhaps you include the protein construct, a nickname for the screen, or the type of plate you're using."
   ]
  },
  {
   "cell_type": "code",
   "execution_count": 2,
   "id": "db37a02d",
   "metadata": {},
   "outputs": [],
   "source": [
    "myscreen = tt.screen(row = 'protein', col = 'PEG', maxwell = 'H6', \n",
    "                     construct = 'HEWL', buffer = 'imidazole 20mM')"
   ]
  },
  {
   "cell_type": "markdown",
   "id": "1c603e1e",
   "metadata": {},
   "source": [
    "Now let's make a tray. Like with `screen()`, `tray()` will parse any additional named arguments as \"tray static\" parameters that apply to all wells in the tray. A common example might be the date the tray was set, or a buffer or additive that is the same across the plate.\n",
    "\n",
    "Most importantly, `tray()` accepts arguments `rows` and `cols` to specify the values of the parameters varying across the plate. These can be set in three ways:  \n",
    "\n",
    " * with a list of two numbers, e.g. `row = [4, 18]` which would evenly space values across the rows (with number of rows determined via the `maxwell` parameter for the screen  \n",
    "   \n",
    " * with a list of numbers equal in length to the number of rows/columns, which get mapped to rows/columns explicitly  \n",
    "   \n",
    " * with a single number, which will be used for all rows/columns  "
   ]
  },
  {
   "cell_type": "code",
   "execution_count": 3,
   "id": "0e966020",
   "metadata": {},
   "outputs": [],
   "source": [
    "tray1 = tt.tray(myscreen, date = '2021-01-01', pH = 5.8,\n",
    "                rows = [4,18],\n",
    "                cols = [20,25])"
   ]
  },
  {
   "cell_type": "markdown",
   "id": "3a9a0109",
   "metadata": {},
   "source": [
    "The `clonetray()` method clones a tray with useage `newtray = clonetray(screen, oldtray, **kwargs)` where you can override specific parameters of the tray being cloned. When trays are similar (or identical) this saves some typing."
   ]
  },
  {
   "cell_type": "code",
   "execution_count": 5,
   "id": "3df0ec85",
   "metadata": {},
   "outputs": [],
   "source": [
    "tray2 = tt.clonetray(tray1, date = '2021-01-03',\n",
    "                     rows = [4, 5, 6, 7, 8, 10, 12, 14])"
   ]
  },
  {
   "cell_type": "markdown",
   "id": "36605840",
   "metadata": {},
   "source": [
    "In this case, using `clonetray()` instead of `tray()` saves you from having to re-specify the pH and the column values, which haven't changed from the previous tray."
   ]
  },
  {
   "cell_type": "markdown",
   "id": "dd24444e",
   "metadata": {},
   "source": [
    "## Logging hits!\n",
    "Our two trays have some crystals! We can log wells with good (or bad!) crystals via the `well()` function. `well()` requires the tray, well, and a short string to describe crystal quality; any other named parameters (perhaps a more verbose description, or a number of crystals) are accepted and get their own column in the resulting dataframe. \n",
    "\n",
    "For all but the first call to `well()`, don't forget `old_df=df` to concatenate the new results with the old results."
   ]
  },
  {
   "cell_type": "code",
   "execution_count": 7,
   "id": "e00a7ef7",
   "metadata": {},
   "outputs": [],
   "source": [
    "df = tt.well(tray1, 'A6', 'good', quantity = 3)\n",
    "df = tt.well(tray1, 'B6', 'good', quantity = 2, note = \"chunkier than usual\", old_df=df)\n",
    "df = tt.well(tray1, 'C6', 'needles', old_df=df)"
   ]
  },
  {
   "cell_type": "code",
   "execution_count": 8,
   "id": "4754bd43",
   "metadata": {},
   "outputs": [
    {
     "data": {
      "text/html": [
       "<div>\n",
       "<style scoped>\n",
       "    .dataframe tbody tr th:only-of-type {\n",
       "        vertical-align: middle;\n",
       "    }\n",
       "\n",
       "    .dataframe tbody tr th {\n",
       "        vertical-align: top;\n",
       "    }\n",
       "\n",
       "    .dataframe thead th {\n",
       "        text-align: right;\n",
       "    }\n",
       "</style>\n",
       "<table border=\"1\" class=\"dataframe\">\n",
       "  <thead>\n",
       "    <tr style=\"text-align: right;\">\n",
       "      <th></th>\n",
       "      <th>protein</th>\n",
       "      <th>PEG</th>\n",
       "      <th>quality</th>\n",
       "      <th>construct</th>\n",
       "      <th>buffer</th>\n",
       "      <th>date</th>\n",
       "      <th>pH</th>\n",
       "      <th>tray</th>\n",
       "      <th>well</th>\n",
       "      <th>quantity</th>\n",
       "      <th>note</th>\n",
       "    </tr>\n",
       "  </thead>\n",
       "  <tbody>\n",
       "    <tr>\n",
       "      <th>0</th>\n",
       "      <td>4.0</td>\n",
       "      <td>25.0</td>\n",
       "      <td>good</td>\n",
       "      <td>HEWL</td>\n",
       "      <td>imidazole 20mM</td>\n",
       "      <td>2021-01-01</td>\n",
       "      <td>5.8</td>\n",
       "      <td>tray1</td>\n",
       "      <td>A6</td>\n",
       "      <td>3.0</td>\n",
       "      <td>NaN</td>\n",
       "    </tr>\n",
       "    <tr>\n",
       "      <th>1</th>\n",
       "      <td>6.0</td>\n",
       "      <td>25.0</td>\n",
       "      <td>good</td>\n",
       "      <td>HEWL</td>\n",
       "      <td>imidazole 20mM</td>\n",
       "      <td>2021-01-01</td>\n",
       "      <td>5.8</td>\n",
       "      <td>tray1</td>\n",
       "      <td>B6</td>\n",
       "      <td>2.0</td>\n",
       "      <td>chunkier than usual</td>\n",
       "    </tr>\n",
       "    <tr>\n",
       "      <th>2</th>\n",
       "      <td>8.0</td>\n",
       "      <td>25.0</td>\n",
       "      <td>needles</td>\n",
       "      <td>HEWL</td>\n",
       "      <td>imidazole 20mM</td>\n",
       "      <td>2021-01-01</td>\n",
       "      <td>5.8</td>\n",
       "      <td>tray1</td>\n",
       "      <td>C6</td>\n",
       "      <td>NaN</td>\n",
       "      <td>NaN</td>\n",
       "    </tr>\n",
       "  </tbody>\n",
       "</table>\n",
       "</div>"
      ],
      "text/plain": [
       "   protein   PEG  quality construct          buffer        date   pH   tray  \\\n",
       "0      4.0  25.0     good      HEWL  imidazole 20mM  2021-01-01  5.8  tray1   \n",
       "1      6.0  25.0     good      HEWL  imidazole 20mM  2021-01-01  5.8  tray1   \n",
       "2      8.0  25.0  needles      HEWL  imidazole 20mM  2021-01-01  5.8  tray1   \n",
       "\n",
       "  well  quantity                 note  \n",
       "0   A6       3.0                  NaN  \n",
       "1   B6       2.0  chunkier than usual  \n",
       "2   C6       NaN                  NaN  "
      ]
     },
     "execution_count": 8,
     "metadata": {},
     "output_type": "execute_result"
    }
   ],
   "source": [
    "df"
   ]
  },
  {
   "cell_type": "markdown",
   "id": "5f28a7f0",
   "metadata": {},
   "source": [
    "The `well()` function uses the tray and well to look up all the data you've logged in your screens.\n",
    "\n",
    "If you have many wells, all of the same quality, you can log them all at once:"
   ]
  },
  {
   "cell_type": "code",
   "execution_count": 9,
   "id": "51bc2312",
   "metadata": {},
   "outputs": [
    {
     "data": {
      "text/html": [
       "<div>\n",
       "<style scoped>\n",
       "    .dataframe tbody tr th:only-of-type {\n",
       "        vertical-align: middle;\n",
       "    }\n",
       "\n",
       "    .dataframe tbody tr th {\n",
       "        vertical-align: top;\n",
       "    }\n",
       "\n",
       "    .dataframe thead th {\n",
       "        text-align: right;\n",
       "    }\n",
       "</style>\n",
       "<table border=\"1\" class=\"dataframe\">\n",
       "  <thead>\n",
       "    <tr style=\"text-align: right;\">\n",
       "      <th></th>\n",
       "      <th>protein</th>\n",
       "      <th>PEG</th>\n",
       "      <th>quality</th>\n",
       "      <th>construct</th>\n",
       "      <th>buffer</th>\n",
       "      <th>date</th>\n",
       "      <th>pH</th>\n",
       "      <th>tray</th>\n",
       "      <th>well</th>\n",
       "      <th>quantity</th>\n",
       "      <th>note</th>\n",
       "    </tr>\n",
       "  </thead>\n",
       "  <tbody>\n",
       "    <tr>\n",
       "      <th>0</th>\n",
       "      <td>4.0</td>\n",
       "      <td>25.0</td>\n",
       "      <td>good</td>\n",
       "      <td>HEWL</td>\n",
       "      <td>imidazole 20mM</td>\n",
       "      <td>2021-01-01</td>\n",
       "      <td>5.8</td>\n",
       "      <td>tray1</td>\n",
       "      <td>A6</td>\n",
       "      <td>3.0</td>\n",
       "      <td>NaN</td>\n",
       "    </tr>\n",
       "    <tr>\n",
       "      <th>1</th>\n",
       "      <td>6.0</td>\n",
       "      <td>25.0</td>\n",
       "      <td>good</td>\n",
       "      <td>HEWL</td>\n",
       "      <td>imidazole 20mM</td>\n",
       "      <td>2021-01-01</td>\n",
       "      <td>5.8</td>\n",
       "      <td>tray1</td>\n",
       "      <td>B6</td>\n",
       "      <td>2.0</td>\n",
       "      <td>chunkier than usual</td>\n",
       "    </tr>\n",
       "    <tr>\n",
       "      <th>2</th>\n",
       "      <td>8.0</td>\n",
       "      <td>25.0</td>\n",
       "      <td>needles</td>\n",
       "      <td>HEWL</td>\n",
       "      <td>imidazole 20mM</td>\n",
       "      <td>2021-01-01</td>\n",
       "      <td>5.8</td>\n",
       "      <td>tray1</td>\n",
       "      <td>C6</td>\n",
       "      <td>NaN</td>\n",
       "      <td>NaN</td>\n",
       "    </tr>\n",
       "    <tr>\n",
       "      <th>3</th>\n",
       "      <td>5</td>\n",
       "      <td>22.0</td>\n",
       "      <td>needles</td>\n",
       "      <td>HEWL</td>\n",
       "      <td>imidazole 20mM</td>\n",
       "      <td>2021-01-03</td>\n",
       "      <td>5.8</td>\n",
       "      <td>tray2</td>\n",
       "      <td>B3</td>\n",
       "      <td>NaN</td>\n",
       "      <td>NaN</td>\n",
       "    </tr>\n",
       "    <tr>\n",
       "      <th>4</th>\n",
       "      <td>6</td>\n",
       "      <td>22.0</td>\n",
       "      <td>needles</td>\n",
       "      <td>HEWL</td>\n",
       "      <td>imidazole 20mM</td>\n",
       "      <td>2021-01-03</td>\n",
       "      <td>5.8</td>\n",
       "      <td>tray2</td>\n",
       "      <td>C3</td>\n",
       "      <td>NaN</td>\n",
       "      <td>NaN</td>\n",
       "    </tr>\n",
       "    <tr>\n",
       "      <th>5</th>\n",
       "      <td>7</td>\n",
       "      <td>22.0</td>\n",
       "      <td>needles</td>\n",
       "      <td>HEWL</td>\n",
       "      <td>imidazole 20mM</td>\n",
       "      <td>2021-01-03</td>\n",
       "      <td>5.8</td>\n",
       "      <td>tray2</td>\n",
       "      <td>D3</td>\n",
       "      <td>NaN</td>\n",
       "      <td>NaN</td>\n",
       "    </tr>\n",
       "    <tr>\n",
       "      <th>6</th>\n",
       "      <td>8</td>\n",
       "      <td>22.0</td>\n",
       "      <td>needles</td>\n",
       "      <td>HEWL</td>\n",
       "      <td>imidazole 20mM</td>\n",
       "      <td>2021-01-03</td>\n",
       "      <td>5.8</td>\n",
       "      <td>tray2</td>\n",
       "      <td>E3</td>\n",
       "      <td>NaN</td>\n",
       "      <td>NaN</td>\n",
       "    </tr>\n",
       "    <tr>\n",
       "      <th>7</th>\n",
       "      <td>4</td>\n",
       "      <td>24.0</td>\n",
       "      <td>good</td>\n",
       "      <td>HEWL</td>\n",
       "      <td>imidazole 20mM</td>\n",
       "      <td>2021-01-03</td>\n",
       "      <td>5.8</td>\n",
       "      <td>tray2</td>\n",
       "      <td>A5</td>\n",
       "      <td>NaN</td>\n",
       "      <td>borderline</td>\n",
       "    </tr>\n",
       "    <tr>\n",
       "      <th>8</th>\n",
       "      <td>4</td>\n",
       "      <td>25.0</td>\n",
       "      <td>good</td>\n",
       "      <td>HEWL</td>\n",
       "      <td>imidazole 20mM</td>\n",
       "      <td>2021-01-03</td>\n",
       "      <td>5.8</td>\n",
       "      <td>tray2</td>\n",
       "      <td>A6</td>\n",
       "      <td>NaN</td>\n",
       "      <td>borderline</td>\n",
       "    </tr>\n",
       "    <tr>\n",
       "      <th>9</th>\n",
       "      <td>5</td>\n",
       "      <td>24.0</td>\n",
       "      <td>good</td>\n",
       "      <td>HEWL</td>\n",
       "      <td>imidazole 20mM</td>\n",
       "      <td>2021-01-03</td>\n",
       "      <td>5.8</td>\n",
       "      <td>tray2</td>\n",
       "      <td>B5</td>\n",
       "      <td>NaN</td>\n",
       "      <td>borderline</td>\n",
       "    </tr>\n",
       "  </tbody>\n",
       "</table>\n",
       "</div>"
      ],
      "text/plain": [
       "  protein   PEG  quality construct          buffer        date   pH   tray  \\\n",
       "0     4.0  25.0     good      HEWL  imidazole 20mM  2021-01-01  5.8  tray1   \n",
       "1     6.0  25.0     good      HEWL  imidazole 20mM  2021-01-01  5.8  tray1   \n",
       "2     8.0  25.0  needles      HEWL  imidazole 20mM  2021-01-01  5.8  tray1   \n",
       "3       5  22.0  needles      HEWL  imidazole 20mM  2021-01-03  5.8  tray2   \n",
       "4       6  22.0  needles      HEWL  imidazole 20mM  2021-01-03  5.8  tray2   \n",
       "5       7  22.0  needles      HEWL  imidazole 20mM  2021-01-03  5.8  tray2   \n",
       "6       8  22.0  needles      HEWL  imidazole 20mM  2021-01-03  5.8  tray2   \n",
       "7       4  24.0     good      HEWL  imidazole 20mM  2021-01-03  5.8  tray2   \n",
       "8       4  25.0     good      HEWL  imidazole 20mM  2021-01-03  5.8  tray2   \n",
       "9       5  24.0     good      HEWL  imidazole 20mM  2021-01-03  5.8  tray2   \n",
       "\n",
       "  well  quantity                 note  \n",
       "0   A6       3.0                  NaN  \n",
       "1   B6       2.0  chunkier than usual  \n",
       "2   C6       NaN                  NaN  \n",
       "3   B3       NaN                  NaN  \n",
       "4   C3       NaN                  NaN  \n",
       "5   D3       NaN                  NaN  \n",
       "6   E3       NaN                  NaN  \n",
       "7   A5       NaN           borderline  \n",
       "8   A6       NaN           borderline  \n",
       "9   B5       NaN           borderline  "
      ]
     },
     "execution_count": 9,
     "metadata": {},
     "output_type": "execute_result"
    }
   ],
   "source": [
    "df = tt.well(tray2, ['B3', 'C3', 'D3', 'E3'], 'needles', old_df=df)\n",
    "df = tt.well(tray2, ['A5', 'A6', 'B5'], 'good', old_df=df, note='borderline')\n",
    "df"
   ]
  },
  {
   "cell_type": "markdown",
   "id": "316a0c71",
   "metadata": {},
   "source": [
    "Finally, let's visualize which conditions are giving good crystals vs. needles."
   ]
  },
  {
   "cell_type": "code",
   "execution_count": 10,
   "id": "78fd38a3",
   "metadata": {},
   "outputs": [
    {
     "data": {
      "image/png": "[encoded data removed]",
      "text/plain": [
       "<Figure size 432x288 with 1 Axes>"
      ]
     },
     "metadata": {
      "needs_background": "light"
     },
     "output_type": "display_data"
    }
   ],
   "source": [
    "colordict= {'good':'green',\n",
    "            'needles':'gray'}\n",
    "df.plot.scatter('protein', 'PEG', alpha=0.6, c=df.quality.map(colordict))\n",
    "plt.title('What [protein] vs. %PEG gives the best crystals?')\n",
    "plt.show()"
   ]
  },
  {
   "cell_type": "markdown",
   "id": "64044cfc",
   "metadata": {},
   "source": [
    "Looks like we should optimize with high PEG, low protein conditions. With `traytable`, no matter how many trays you've set with slightly varied screens, you can always consolidate your results in a single table or plot."
   ]
  },
  {
   "cell_type": "markdown",
   "id": "59667682",
   "metadata": {},
   "source": [
    "### Other things of note\n",
    "\n",
    "* You may have noticed that optional parameters present in some calls to `well()`, but not others, are harmlessly treated as `NaN` where missing.  \n",
    "\n",
    "* The `setrows()` and `setcols()` methods are called behind the scenes by `tray()` and `clonetray()` via the `rows` and `cols` keyword arguments, respectively, but are also available as stand-alone functions with usage `tray = setrows(tray, rows)` and likewise for columns.  "
   ]
  },
  {
   "cell_type": "markdown",
   "id": "1afe8313",
   "metadata": {},
   "source": [
    "## Just a code chunk"
   ]
  },
  {
   "cell_type": "code",
   "execution_count": 11,
   "id": "faa32024",
   "metadata": {},
   "outputs": [
    {
     "data": {
      "image/png": "[encoded data removed]",
      "text/plain": [
       "<Figure size 432x288 with 1 Axes>"
      ]
     },
     "metadata": {
      "needs_background": "light"
     },
     "output_type": "display_data"
    }
   ],
   "source": [
    "import traytable as tt\n",
    "import matplotlib.pyplot as plt\n",
    "\n",
    "# make trays\n",
    "myscreen = tt.screen(row = 'protein', col = 'PEG', maxwell = 'H6', \n",
    "                     construct = 'HEWL', buffer = 'imidazole 20mM')\n",
    "tray1 = tt.tray(myscreen, date = '2021-01-01', pH = 5.8,\n",
    "                rows = [4,18],\n",
    "                cols = [20,25])\n",
    "tray2 = tt.clonetray(tray1, date = '2021-01-03',\n",
    "                     rows = [4, 5, 6, 7, 8, 10, 12, 14])\n",
    "\n",
    "# log results\n",
    "df = tt.well(tray1, 'A6', 'good', quantity = 3)\n",
    "df = tt.well(tray1, 'B6', 'good', quantity = 2, note = \"chunkier than usual\", old_df=df)\n",
    "df = tt.well(tray1, 'C6', 'needles', old_df=df)\n",
    "df = tt.well(tray2, ['B3', 'C3', 'D3', 'E3'], 'needles', old_df=df)\n",
    "df = tt.well(tray2, ['A5', 'A6', 'B5'], 'good', old_df=df, note='borderline')\n",
    "\n",
    "# plot results\n",
    "colordict= {'good':'green',\n",
    "            'needles':'gray'}\n",
    "df.plot.scatter('protein', 'PEG', alpha=0.6, c=df.quality.map(colordict))\n",
    "plt.title('What [protein] vs. %PEG gives the best crystals?')\n",
    "plt.show()"
   ]
  }
 ],
 "metadata": {
  "kernelspec": {
   "display_name": "Python 3",
   "language": "python",
   "name": "python3"
  },
  "language_info": {
   "codemirror_mode": {
    "name": "ipython",
    "version": 3
   },
   "file_extension": ".py",
   "mimetype": "text/x-python",
   "name": "python",
   "nbconvert_exporter": "python",
   "pygments_lexer": "ipython3",
   "version": "3.9.2"
  }
 },
 "nbformat": 4,
 "nbformat_minor": 5
}
