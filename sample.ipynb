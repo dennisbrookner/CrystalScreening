{
 "cells": [
  {
   "cell_type": "code",
   "execution_count": 22,
   "id": "executive-channels",
   "metadata": {},
   "outputs": [],
   "source": [
    "import traytable as tt\n",
    "import matplotlib.pyplot as plt\n",
    "import pandas as pd"
   ]
  },
  {
   "cell_type": "markdown",
   "id": "bright-nepal",
   "metadata": {},
   "source": [
    "The package comes with a sample screen, which you can use for test purposes:"
   ]
  },
  {
   "cell_type": "code",
   "execution_count": 2,
   "id": "still-candidate",
   "metadata": {},
   "outputs": [
    {
     "name": "stdout",
     "output_type": "stream",
     "text": [
      "{'row': 'protein', 'col': 'PEG', 'maxwell': 'H6', 'screenstatics': {'construct': 'wt DHFR', 'buffer': 'imidazole'}, 'tray1': {'traystatics': {'date': '2021-01-01', 'pH': 5.4, 'additive': 'NaOAc'}, 'A': 4.0, 'B': 6.0, 'C': 8.0, 'D': 10.0, 'E': 12.0, 'F': 14.0, 'G': 16.0, 'H': 18.0, '1': 16.0, '2': 17.0, '3': 18.0, '4': 19.0, '5': 20.0, '6': 21.0}, 'tray2': {'traystatics': {'date': '2021-01-03', 'pH': 5.6, 'other': 'humid day'}, 'A': 10.0, 'B': 11.0, 'C': 12.0, 'D': 13.0, 'E': 14.0, 'F': 15.0, 'G': 16.0, 'H': 17.0, '1': 15.0, '2': 16.0, '3': 17.0, '4': 18.0, '5': 19.0, '6': 20.0}, 'tray3': {'traystatics': {'date': '2021-01-04', 'pH': 5.6, 'other': 'humid day'}, 'A': 11.0, 'B': 12.0, 'C': 13.0, 'D': 14.0, 'E': 15.0, 'F': 16.0, 'G': 17.0, 'H': 18.0, '1': 15.0, '2': 16.0, '3': 17.0, '4': 18.0, '5': 19.0, '6': 20.0}}\n"
     ]
    }
   ],
   "source": [
    "print(samplescreen)"
   ]
  },
  {
   "cell_type": "markdown",
   "id": "quick-confusion",
   "metadata": {},
   "source": [
    "For now, however, let's build up a simple screen from sratch.\n",
    "\n",
    "First, initialize the screen with `newscreen()`. This function requires that you specify\n",
    " - the parameter that varies by row \n",
    " - the parameter that varies by column\n",
    " - the plate shape, in the form of a \"max well\", e.g. the well in the bottom right corner of the plate.\n",
    " \n",
    "Note that `row` refers to the parameter encoded by the row name; this is the parameter that is the same within a row, rather than the parameter that varies across the row. Likewise for columns.\n",
    "\n",
    "Finally, whatever additional named arguments you pass to `newscreen()` become \"screen static\" global parameters that apply to all wells in all trays in the screen. A common example might be the protein construct, or a name for the screen."
   ]
  },
  {
   "cell_type": "code",
   "execution_count": 23,
   "id": "conservative-integer",
   "metadata": {},
   "outputs": [
    {
     "name": "stdout",
     "output_type": "stream",
     "text": [
      "{'row': 'protein', 'col': 'PEG', 'maxwell': 'H6', 'screenstatics': {'construct': 'HEWL'}}\n"
     ]
    }
   ],
   "source": [
    "myscreen = newscreen(row = 'protein', col = 'PEG', maxwell = 'H6', construct = 'HEWL')\n",
    "print(myscreen)"
   ]
  },
  {
   "cell_type": "markdown",
   "id": "wireless-uncle",
   "metadata": {},
   "source": [
    "Now let's make a tray. Like with `newscreen()`, `newtray()` will parse any additional named arguments as \"tray static\" parameters that apply to all wells in the tray. A common example might be the date the tray was set, or a buffer or additive that is the same across the plate."
   ]
  },
  {
   "cell_type": "code",
   "execution_count": 24,
   "id": "patient-hawaii",
   "metadata": {},
   "outputs": [],
   "source": [
    "myscreen = newtray(myscreen, 'tray1', date = '2021-01-01', buffer = 'HEPES', pH = 5.8)"
   ]
  },
  {
   "cell_type": "markdown",
   "id": "ideal-tackle",
   "metadata": {},
   "source": [
    "The last thing to do is input the actual varying conditions across the tray, which we do via the `setrows()` and `setcols()` methods. For both of these methods, if you pass two parameters after the screen and tray, they are treated as the start and end of an evenly spaced gradient. If you pass only one parameter, it must be a list specifying a value for every row/column. Below, `tray1` is made using even gradients, and `tray2` is set with an irregular screen."
   ]
  },
  {
   "cell_type": "code",
   "execution_count": 25,
   "id": "protected-ghana",
   "metadata": {},
   "outputs": [
    {
     "name": "stdout",
     "output_type": "stream",
     "text": [
      "{'row': 'protein', 'col': 'PEG', 'maxwell': 'H6', 'screenstatics': {'construct': 'HEWL'}, 'tray1': {'traystatics': {'date': '2021-01-01', 'buffer': 'HEPES', 'pH': 5.8}, 'A': 4.0, 'B': 6.0, 'C': 8.0, 'D': 10.0, 'E': 12.0, 'F': 14.0, 'G': 16.0, 'H': 18.0, '1': 21.0, '2': 22.0, '3': 23.0, '4': 24.0, '5': 25.0, '6': 26.0}, 'tray2': {'traystatics': {'date': '2021-01-02', 'buffer': 'HEPES', 'pH': 6.0, 'additive': 'NaOAc'}, 'A': 6, 'B': 7, 'C': 8, 'D': 9, 'E': 12, 'F': 15, 'G': 16, 'H': 17, '1': 21, '2': 21.5, '3': 22.5, '4': 23.5, '5': 26, '6': 27}}\n"
     ]
    }
   ],
   "source": [
    "myscreen = setrows(myscreen, 'tray1', 4, 18) # evenly vary from 6 to 18 mg/ml protein over 8 rows\n",
    "myscreen = setcols(myscreen, 'tray1', 21, 26) # evenly vary from 21 to 26 % PEG over 6 columns\n",
    "\n",
    "# set row/column values explicitly\n",
    "myscreen = newtray(myscreen, 'tray2', date = '2021-01-02', buffer = 'HEPES', pH = 6.0, additive = 'NaOAc')\n",
    "myscreen = setrows(myscreen, 'tray2', [6, 7, 8, 9, 12, 15, 16, 17]) \n",
    "myscreen = setcols(myscreen, 'tray2', [21, 21.5, 22.5, 23.5, 26, 27])\n",
    "\n",
    "print(myscreen)"
   ]
  },
  {
   "cell_type": "markdown",
   "id": "environmental-stroke",
   "metadata": {},
   "source": [
    "### Logging hits!\n",
    "Our two trays have some crystals! We can log wells with good crystals via the `well()` function. `well()` takes information from most general to most specific - start with the screen, then tray, then well. Then, include a short string to describe crystal quality, along with any other named parameters (perhaps a more verbose description, or a number of crystals.\n",
    "\n",
    "For all but the first call to `well()`, don't forget `old_df=df` to concatenate the new results with the old results."
   ]
  },
  {
   "cell_type": "code",
   "execution_count": 32,
   "id": "typical-magnet",
   "metadata": {},
   "outputs": [],
   "source": [
    "df = well(myscreen, 'tray1', 'A4', 'good', quantity = 3)\n",
    "df = well(myscreen, 'tray1', 'B4', 'needles', quantity = 2, old_df=df)\n",
    "df = well(myscreen, 'tray1', 'B2', 'good', quantity = 1, note = \"chunkier than usual\", old_df=df)"
   ]
  },
  {
   "cell_type": "code",
   "execution_count": 33,
   "id": "native-passport",
   "metadata": {},
   "outputs": [
    {
     "data": {
      "text/html": [
       "<div>\n",
       "<style scoped>\n",
       "    .dataframe tbody tr th:only-of-type {\n",
       "        vertical-align: middle;\n",
       "    }\n",
       "\n",
       "    .dataframe tbody tr th {\n",
       "        vertical-align: top;\n",
       "    }\n",
       "\n",
       "    .dataframe thead th {\n",
       "        text-align: right;\n",
       "    }\n",
       "</style>\n",
       "<table border=\"1\" class=\"dataframe\">\n",
       "  <thead>\n",
       "    <tr style=\"text-align: right;\">\n",
       "      <th></th>\n",
       "      <th>protein</th>\n",
       "      <th>PEG</th>\n",
       "      <th>quality</th>\n",
       "      <th>date</th>\n",
       "      <th>buffer</th>\n",
       "      <th>pH</th>\n",
       "      <th>construct</th>\n",
       "      <th>tray</th>\n",
       "      <th>well</th>\n",
       "      <th>quantity</th>\n",
       "      <th>note</th>\n",
       "    </tr>\n",
       "  </thead>\n",
       "  <tbody>\n",
       "    <tr>\n",
       "      <th>0</th>\n",
       "      <td>4.0</td>\n",
       "      <td>24.0</td>\n",
       "      <td>good</td>\n",
       "      <td>2021-01-01</td>\n",
       "      <td>HEPES</td>\n",
       "      <td>5.8</td>\n",
       "      <td>HEWL</td>\n",
       "      <td>tray1</td>\n",
       "      <td>A4</td>\n",
       "      <td>3</td>\n",
       "      <td>NaN</td>\n",
       "    </tr>\n",
       "    <tr>\n",
       "      <th>1</th>\n",
       "      <td>6.0</td>\n",
       "      <td>24.0</td>\n",
       "      <td>needles</td>\n",
       "      <td>2021-01-01</td>\n",
       "      <td>HEPES</td>\n",
       "      <td>5.8</td>\n",
       "      <td>HEWL</td>\n",
       "      <td>tray1</td>\n",
       "      <td>B4</td>\n",
       "      <td>2</td>\n",
       "      <td>NaN</td>\n",
       "    </tr>\n",
       "    <tr>\n",
       "      <th>2</th>\n",
       "      <td>6.0</td>\n",
       "      <td>22.0</td>\n",
       "      <td>good</td>\n",
       "      <td>2021-01-01</td>\n",
       "      <td>HEPES</td>\n",
       "      <td>5.8</td>\n",
       "      <td>HEWL</td>\n",
       "      <td>tray1</td>\n",
       "      <td>B2</td>\n",
       "      <td>1</td>\n",
       "      <td>chunkier than usual</td>\n",
       "    </tr>\n",
       "  </tbody>\n",
       "</table>\n",
       "</div>"
      ],
      "text/plain": [
       "   protein   PEG  quality        date buffer   pH construct   tray well  \\\n",
       "0      4.0  24.0     good  2021-01-01  HEPES  5.8      HEWL  tray1   A4   \n",
       "1      6.0  24.0  needles  2021-01-01  HEPES  5.8      HEWL  tray1   B4   \n",
       "2      6.0  22.0     good  2021-01-01  HEPES  5.8      HEWL  tray1   B2   \n",
       "\n",
       "   quantity                 note  \n",
       "0         3                  NaN  \n",
       "1         2                  NaN  \n",
       "2         1  chunkier than usual  "
      ]
     },
     "execution_count": 33,
     "metadata": {},
     "output_type": "execute_result"
    }
   ],
   "source": [
    "df"
   ]
  },
  {
   "cell_type": "markdown",
   "id": "industrial-figure",
   "metadata": {},
   "source": [
    "The `well()` function uses the tray and well to look up all the data you've logged in your screens.\n",
    "\n",
    "If you have many wells, all of the same quality, you can log them all at once:"
   ]
  },
  {
   "cell_type": "code",
   "execution_count": 34,
   "id": "filled-evidence",
   "metadata": {},
   "outputs": [
    {
     "data": {
      "text/html": [
       "<div>\n",
       "<style scoped>\n",
       "    .dataframe tbody tr th:only-of-type {\n",
       "        vertical-align: middle;\n",
       "    }\n",
       "\n",
       "    .dataframe tbody tr th {\n",
       "        vertical-align: top;\n",
       "    }\n",
       "\n",
       "    .dataframe thead th {\n",
       "        text-align: right;\n",
       "    }\n",
       "</style>\n",
       "<table border=\"1\" class=\"dataframe\">\n",
       "  <thead>\n",
       "    <tr style=\"text-align: right;\">\n",
       "      <th></th>\n",
       "      <th>protein</th>\n",
       "      <th>PEG</th>\n",
       "      <th>quality</th>\n",
       "      <th>date</th>\n",
       "      <th>buffer</th>\n",
       "      <th>pH</th>\n",
       "      <th>construct</th>\n",
       "      <th>tray</th>\n",
       "      <th>well</th>\n",
       "      <th>quantity</th>\n",
       "      <th>note</th>\n",
       "      <th>additive</th>\n",
       "    </tr>\n",
       "  </thead>\n",
       "  <tbody>\n",
       "    <tr>\n",
       "      <th>0</th>\n",
       "      <td>4.0</td>\n",
       "      <td>24.0</td>\n",
       "      <td>good</td>\n",
       "      <td>2021-01-01</td>\n",
       "      <td>HEPES</td>\n",
       "      <td>5.8</td>\n",
       "      <td>HEWL</td>\n",
       "      <td>tray1</td>\n",
       "      <td>A4</td>\n",
       "      <td>3.0</td>\n",
       "      <td>NaN</td>\n",
       "      <td>NaN</td>\n",
       "    </tr>\n",
       "    <tr>\n",
       "      <th>1</th>\n",
       "      <td>6.0</td>\n",
       "      <td>24.0</td>\n",
       "      <td>needles</td>\n",
       "      <td>2021-01-01</td>\n",
       "      <td>HEPES</td>\n",
       "      <td>5.8</td>\n",
       "      <td>HEWL</td>\n",
       "      <td>tray1</td>\n",
       "      <td>B4</td>\n",
       "      <td>2.0</td>\n",
       "      <td>NaN</td>\n",
       "      <td>NaN</td>\n",
       "    </tr>\n",
       "    <tr>\n",
       "      <th>2</th>\n",
       "      <td>6.0</td>\n",
       "      <td>22.0</td>\n",
       "      <td>good</td>\n",
       "      <td>2021-01-01</td>\n",
       "      <td>HEPES</td>\n",
       "      <td>5.8</td>\n",
       "      <td>HEWL</td>\n",
       "      <td>tray1</td>\n",
       "      <td>B2</td>\n",
       "      <td>1.0</td>\n",
       "      <td>chunkier than usual</td>\n",
       "      <td>NaN</td>\n",
       "    </tr>\n",
       "    <tr>\n",
       "      <th>3</th>\n",
       "      <td>6</td>\n",
       "      <td>22.5</td>\n",
       "      <td>needles</td>\n",
       "      <td>2021-01-02</td>\n",
       "      <td>HEPES</td>\n",
       "      <td>6.0</td>\n",
       "      <td>HEWL</td>\n",
       "      <td>tray2</td>\n",
       "      <td>A3</td>\n",
       "      <td>NaN</td>\n",
       "      <td>NaN</td>\n",
       "      <td>NaOAc</td>\n",
       "    </tr>\n",
       "    <tr>\n",
       "      <th>4</th>\n",
       "      <td>6</td>\n",
       "      <td>26.0</td>\n",
       "      <td>needles</td>\n",
       "      <td>2021-01-02</td>\n",
       "      <td>HEPES</td>\n",
       "      <td>6.0</td>\n",
       "      <td>HEWL</td>\n",
       "      <td>tray2</td>\n",
       "      <td>A5</td>\n",
       "      <td>NaN</td>\n",
       "      <td>NaN</td>\n",
       "      <td>NaOAc</td>\n",
       "    </tr>\n",
       "    <tr>\n",
       "      <th>5</th>\n",
       "      <td>7</td>\n",
       "      <td>21.5</td>\n",
       "      <td>needles</td>\n",
       "      <td>2021-01-02</td>\n",
       "      <td>HEPES</td>\n",
       "      <td>6.0</td>\n",
       "      <td>HEWL</td>\n",
       "      <td>tray2</td>\n",
       "      <td>B2</td>\n",
       "      <td>NaN</td>\n",
       "      <td>NaN</td>\n",
       "      <td>NaOAc</td>\n",
       "    </tr>\n",
       "    <tr>\n",
       "      <th>6</th>\n",
       "      <td>7</td>\n",
       "      <td>22.5</td>\n",
       "      <td>needles</td>\n",
       "      <td>2021-01-02</td>\n",
       "      <td>HEPES</td>\n",
       "      <td>6.0</td>\n",
       "      <td>HEWL</td>\n",
       "      <td>tray2</td>\n",
       "      <td>B3</td>\n",
       "      <td>NaN</td>\n",
       "      <td>NaN</td>\n",
       "      <td>NaOAc</td>\n",
       "    </tr>\n",
       "    <tr>\n",
       "      <th>7</th>\n",
       "      <td>6</td>\n",
       "      <td>21</td>\n",
       "      <td>good</td>\n",
       "      <td>2021-01-02</td>\n",
       "      <td>HEPES</td>\n",
       "      <td>6.0</td>\n",
       "      <td>HEWL</td>\n",
       "      <td>tray2</td>\n",
       "      <td>A1</td>\n",
       "      <td>NaN</td>\n",
       "      <td>borderline</td>\n",
       "      <td>NaOAc</td>\n",
       "    </tr>\n",
       "    <tr>\n",
       "      <th>8</th>\n",
       "      <td>6</td>\n",
       "      <td>21.5</td>\n",
       "      <td>good</td>\n",
       "      <td>2021-01-02</td>\n",
       "      <td>HEPES</td>\n",
       "      <td>6.0</td>\n",
       "      <td>HEWL</td>\n",
       "      <td>tray2</td>\n",
       "      <td>A2</td>\n",
       "      <td>NaN</td>\n",
       "      <td>borderline</td>\n",
       "      <td>NaOAc</td>\n",
       "    </tr>\n",
       "    <tr>\n",
       "      <th>9</th>\n",
       "      <td>7</td>\n",
       "      <td>21</td>\n",
       "      <td>good</td>\n",
       "      <td>2021-01-02</td>\n",
       "      <td>HEPES</td>\n",
       "      <td>6.0</td>\n",
       "      <td>HEWL</td>\n",
       "      <td>tray2</td>\n",
       "      <td>B1</td>\n",
       "      <td>NaN</td>\n",
       "      <td>borderline</td>\n",
       "      <td>NaOAc</td>\n",
       "    </tr>\n",
       "  </tbody>\n",
       "</table>\n",
       "</div>"
      ],
      "text/plain": [
       "  protein   PEG  quality        date buffer   pH construct   tray well  \\\n",
       "0     4.0  24.0     good  2021-01-01  HEPES  5.8      HEWL  tray1   A4   \n",
       "1     6.0  24.0  needles  2021-01-01  HEPES  5.8      HEWL  tray1   B4   \n",
       "2     6.0  22.0     good  2021-01-01  HEPES  5.8      HEWL  tray1   B2   \n",
       "3       6  22.5  needles  2021-01-02  HEPES  6.0      HEWL  tray2   A3   \n",
       "4       6  26.0  needles  2021-01-02  HEPES  6.0      HEWL  tray2   A5   \n",
       "5       7  21.5  needles  2021-01-02  HEPES  6.0      HEWL  tray2   B2   \n",
       "6       7  22.5  needles  2021-01-02  HEPES  6.0      HEWL  tray2   B3   \n",
       "7       6    21     good  2021-01-02  HEPES  6.0      HEWL  tray2   A1   \n",
       "8       6  21.5     good  2021-01-02  HEPES  6.0      HEWL  tray2   A2   \n",
       "9       7    21     good  2021-01-02  HEPES  6.0      HEWL  tray2   B1   \n",
       "\n",
       "   quantity                 note additive  \n",
       "0       3.0                  NaN      NaN  \n",
       "1       2.0                  NaN      NaN  \n",
       "2       1.0  chunkier than usual      NaN  \n",
       "3       NaN                  NaN    NaOAc  \n",
       "4       NaN                  NaN    NaOAc  \n",
       "5       NaN                  NaN    NaOAc  \n",
       "6       NaN                  NaN    NaOAc  \n",
       "7       NaN           borderline    NaOAc  \n",
       "8       NaN           borderline    NaOAc  \n",
       "9       NaN           borderline    NaOAc  "
      ]
     },
     "execution_count": 34,
     "metadata": {},
     "output_type": "execute_result"
    }
   ],
   "source": [
    "df = well(myscreen, 'tray2', ['A3', 'A5', 'B2', 'B3'], 'needles', old_df=df)\n",
    "df = well(myscreen, 'tray2', ['A1', 'A2', 'B1'], 'good', old_df=df, note='borderline')\n",
    "df"
   ]
  },
  {
   "cell_type": "markdown",
   "id": "abandoned-transportation",
   "metadata": {},
   "source": [
    "Finally, let's visualize which conditions are giving good crystals vs. needles."
   ]
  },
  {
   "cell_type": "code",
   "execution_count": 35,
   "id": "broadband-practice",
   "metadata": {},
   "outputs": [
    {
     "data": {
      "image/png": "[encoded data removed]",
      "text/plain": [
       "<Figure size 432x288 with 1 Axes>"
      ]
     },
     "metadata": {
      "needs_background": "light"
     },
     "output_type": "display_data"
    }
   ],
   "source": [
    "colordict= {'good':'green',\n",
    "            'needles':'gray'}\n",
    "df.plot.scatter('protein', 'PEG', alpha=0.6, c=df.quality.map(colordict))\n",
    "plt.show()"
   ]
  },
  {
   "cell_type": "markdown",
   "id": "headed-prague",
   "metadata": {},
   "source": [
    "### Other things of note\n",
    "You may have noticed that values present in some rows, but not others, are harmlessly treated as `NaN` where missing.\n",
    "\n",
    "To save a little bit of copy/pasting, the `clonetray()` method makes a copy of a tray, only changing whatever parameters you specify. You can override the cloned row or column gradient in the new tray by calling `setrows()` and/or `setcols()` with the new tray."
   ]
  },
  {
   "cell_type": "code",
   "execution_count": 36,
   "id": "planned-rolling",
   "metadata": {},
   "outputs": [],
   "source": [
    "myscreen = clonetray(myscreen, 'tray2', 'tray2.1', date='2021-01-05')\n",
    "df = well(myscreen, 'tray2.1', 'B1', 'good', quantity = 1, old_df=df)"
   ]
  }
 ],
 "metadata": {
  "kernelspec": {
   "display_name": "Python 3",
   "language": "python",
   "name": "python3"
  },
  "language_info": {
   "codemirror_mode": {
    "name": "ipython",
    "version": 3
   },
   "file_extension": ".py",
   "mimetype": "text/x-python",
   "name": "python",
   "nbconvert_exporter": "python",
   "pygments_lexer": "ipython3",
   "version": "3.8.6"
  }
 },
 "nbformat": 4,
 "nbformat_minor": 5
}
